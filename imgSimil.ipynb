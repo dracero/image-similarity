{
 "cells": [
  {
   "cell_type": "code",
   "execution_count": 20,
   "metadata": {},
   "outputs": [
    {
     "name": "stdout",
     "output_type": "stream",
     "text": [
      "Extraction done in : 0.2571539878845215\n"
     ]
    }
   ],
   "source": [
    "import torch\n",
    "from transformers import AutoImageProcessor, AutoModel\n",
    "from PIL import Image\n",
    "import faiss\n",
    "import numpy as np\n",
    "import os\n",
    "\n",
    "#load the model and processor\n",
    "device = torch.device('cuda' if torch.cuda.is_available() else \"cpu\")\n",
    "processor = AutoImageProcessor.from_pretrained('facebook/dinov2-base')\n",
    "model = AutoModel.from_pretrained('facebook/dinov2-base').to(device)\n",
    "\n",
    "#Populate the images variable with all the images in the dataset folder\n",
    "images = []\n",
    "for root, dirs, files in os.walk('./dataset'):\n",
    "    for file in files:\n",
    "        if file.endswith('png'):\n",
    "            images.append(root  + '/'+ file)\n",
    "\n",
    "#Define a function that normalizes embeddings and add them to the index\n",
    "def add_vector_to_index(embedding, index):\n",
    "    #convert embedding to numpy\n",
    "    vector = embedding.detach().cpu().numpy()\n",
    "    #Convert to float32 numpy\n",
    "    vector = np.float32(vector)\n",
    "    #Normalize vector: important to avoid wrong results when searching\n",
    "    faiss.normalize_L2(vector)\n",
    "    #Add to index\n",
    "    index.add(vector)\n",
    "\n",
    "\n",
    "#You must issue print(features.mean(dim=1).shape) to find out the dims of the model features\n",
    "#Each model small, base, large, giant, has a different features dim\n",
    "index = faiss.IndexFlatL2(768)\n",
    "\n",
    "import time\n",
    "t0 = time.time()\n",
    "for image_path in images:\n",
    "    img = Image.open(image_path).convert('RGB')\n",
    "    with torch.no_grad():\n",
    "        inputs = processor(images=img, return_tensors=\"pt\").to(device)\n",
    "        outputs = model(**inputs)\n",
    "    features = outputs.last_hidden_state\n",
    "    add_vector_to_index( features.mean(dim=1), index)\n",
    "\n",
    "print('Extraction done in :', time.time()-t0)\n",
    "\n",
    "#Store the index locally\n",
    "faiss.write_index(index,\"vector.index\")"
   ]
  },
  {
   "cell_type": "code",
   "execution_count": 21,
   "metadata": {},
   "outputs": [
    {
     "data": {
      "text/plain": [
       "['./dataset/body3.png',\n",
       " './dataset/body2.png',\n",
       " './dataset/body.png',\n",
       " './dataset/rueda.png',\n",
       " './dataset/volante.png']"
      ]
     },
     "execution_count": 21,
     "metadata": {},
     "output_type": "execute_result"
    }
   ],
   "source": [
    "images"
   ]
  },
  {
   "cell_type": "code",
   "execution_count": 22,
   "metadata": {},
   "outputs": [
    {
     "name": "stdout",
     "output_type": "stream",
     "text": [
      "distances: [[0.         0.01214276 0.69630843 0.7602084  0.78484124]] indexes: [[2 1 4 0 3]]\n"
     ]
    }
   ],
   "source": [
    "import faiss\n",
    "import numpy as np\n",
    "import torch\n",
    "from transformers import AutoImageProcessor, AutoModel\n",
    "from PIL import Image\n",
    "\n",
    "#input image\n",
    "image = Image.open('body.png')\n",
    "\n",
    "#Load the model and processor\n",
    "device = torch.device('cuda' if torch.cuda.is_available() else \"cpu\")\n",
    "processor = AutoImageProcessor.from_pretrained('facebook/dinov2-base')\n",
    "model = AutoModel.from_pretrained('facebook/dinov2-base').to(device)\n",
    "\n",
    "#Extract the features\n",
    "with torch.no_grad():\n",
    "    inputs = processor(images=image, return_tensors=\"pt\").to(device)\n",
    "    outputs = model(**inputs)\n",
    "\n",
    "#Normalize the features before search\n",
    "embeddings = outputs.last_hidden_state\n",
    "embeddings = embeddings.mean(dim=1)\n",
    "vector = embeddings.detach().cpu().numpy()\n",
    "vector = np.float32(vector)\n",
    "faiss.normalize_L2(vector)\n",
    "\n",
    "#Read the index file and perform search of top-3 images\n",
    "index = faiss.read_index(\"vector.index\")\n",
    "d,i = index.search(vector,5)\n",
    "print('distances:', d, 'indexes:', i)"
   ]
  }
 ],
 "metadata": {
  "kernelspec": {
   "display_name": "Python 3",
   "language": "python",
   "name": "python3"
  },
  "language_info": {
   "codemirror_mode": {
    "name": "ipython",
    "version": 3
   },
   "file_extension": ".py",
   "mimetype": "text/x-python",
   "name": "python",
   "nbconvert_exporter": "python",
   "pygments_lexer": "ipython3",
   "version": "3.10.12"
  },
  "orig_nbformat": 4
 },
 "nbformat": 4,
 "nbformat_minor": 2
}
